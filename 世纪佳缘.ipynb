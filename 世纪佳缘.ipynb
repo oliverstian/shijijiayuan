{
 "cells": [
  {
   "cell_type": "code",
   "execution_count": 482,
   "metadata": {
    "collapsed": true
   },
   "outputs": [],
   "source": [
    "import pandas as pd\n",
    "import numpy as np\n",
    "import json\n",
    "from pandas import Series, DataFrame\n",
    "import matplotlib.pyplot as plt"
   ]
  },
  {
   "cell_type": "markdown",
   "metadata": {},
   "source": [
    "#### 爬取湖南省身高153cm-170cm小姐姐数据，年龄范围20-35岁"
   ]
  },
  {
   "cell_type": "markdown",
   "metadata": {},
   "source": [
    "### 原始数据提取"
   ]
  },
  {
   "cell_type": "code",
   "execution_count": 471,
   "metadata": {
    "collapsed": true
   },
   "outputs": [],
   "source": [
    "# 不用科学计数显示，保留小数点二位\n",
    "pd.set_option('display.float_format', lambda x: '%.2f' % x)"
   ]
  },
  {
   "cell_type": "code",
   "execution_count": 472,
   "metadata": {
    "collapsed": true
   },
   "outputs": [],
   "source": [
    "item_list = []\n",
    "with open(\"girls_153-170_66min.json\", \"r\", encoding=\"utf8\") as fp:\n",
    "    for line in fp:\n",
    "        js_to_dict = json.loads(line)\n",
    "        item_list.append(js_to_dict)"
   ]
  },
  {
   "cell_type": "code",
   "execution_count": 473,
   "metadata": {},
   "outputs": [
    {
     "data": {
      "text/html": [
       "<div>\n",
       "<style>\n",
       "    .dataframe thead tr:only-child th {\n",
       "        text-align: right;\n",
       "    }\n",
       "\n",
       "    .dataframe thead th {\n",
       "        text-align: left;\n",
       "    }\n",
       "\n",
       "    .dataframe tbody tr th {\n",
       "        vertical-align: top;\n",
       "    }\n",
       "</style>\n",
       "<table border=\"1\" class=\"dataframe\">\n",
       "  <thead>\n",
       "    <tr style=\"text-align: right;\">\n",
       "      <th></th>\n",
       "      <th>user_id</th>\n",
       "      <th>nickname</th>\n",
       "      <th>age</th>\n",
       "      <th>degree</th>\n",
       "      <th>height</th>\n",
       "      <th>marriage</th>\n",
       "      <th>salary</th>\n",
       "      <th>age_boy</th>\n",
       "      <th>height_boy</th>\n",
       "      <th>degree_boy</th>\n",
       "      <th>marriage_boy</th>\n",
       "    </tr>\n",
       "  </thead>\n",
       "  <tbody>\n",
       "    <tr>\n",
       "      <th>0</th>\n",
       "      <td>217276561</td>\n",
       "      <td>注定</td>\n",
       "      <td>27</td>\n",
       "      <td>大专</td>\n",
       "      <td>162cm</td>\n",
       "      <td>离异</td>\n",
       "      <td>2000～5000元</td>\n",
       "      <td>26-34岁之间</td>\n",
       "      <td>162-187厘米</td>\n",
       "      <td>不限</td>\n",
       "      <td>不限</td>\n",
       "    </tr>\n",
       "    <tr>\n",
       "      <th>1</th>\n",
       "      <td>35161894</td>\n",
       "      <td>菲菲</td>\n",
       "      <td>33</td>\n",
       "      <td>本科</td>\n",
       "      <td>163cm</td>\n",
       "      <td>离异</td>\n",
       "      <td>2000～5000元</td>\n",
       "      <td>26-45岁之间</td>\n",
       "      <td>173-190厘米</td>\n",
       "      <td>不限</td>\n",
       "      <td>不限</td>\n",
       "    </tr>\n",
       "    <tr>\n",
       "      <th>2</th>\n",
       "      <td>218231396</td>\n",
       "      <td>清风</td>\n",
       "      <td>29</td>\n",
       "      <td>高中中专及以下</td>\n",
       "      <td>160cm</td>\n",
       "      <td>未婚</td>\n",
       "      <td>5000～10000元</td>\n",
       "      <td>28-36岁之间</td>\n",
       "      <td>160-185厘米</td>\n",
       "      <td>不限</td>\n",
       "      <td>不限</td>\n",
       "    </tr>\n",
       "  </tbody>\n",
       "</table>\n",
       "</div>"
      ],
      "text/plain": [
       "     user_id nickname age   degree height marriage       salary    age_boy  \\\n",
       "0  217276561       注定  27       大专  162cm       离异   2000～5000元   26-34岁之间   \n",
       "1   35161894       菲菲  33       本科  163cm       离异   2000～5000元  26-45岁之间    \n",
       "2  218231396       清风  29  高中中专及以下  160cm       未婚  5000～10000元   28-36岁之间   \n",
       "\n",
       "   height_boy degree_boy marriage_boy  \n",
       "0   162-187厘米         不限           不限  \n",
       "1  173-190厘米          不限           不限  \n",
       "2   160-185厘米         不限           不限  "
      ]
     },
     "execution_count": 473,
     "metadata": {},
     "output_type": "execute_result"
    }
   ],
   "source": [
    "raw_data = pd.DataFrame(item_list, columns=[\"user_id\", \"nickname\", \"age\", \"degree\", \"height\",\"marriage\", \"salary\", \"age_boy\", \"height_boy\", \"degree_boy\", \"marriage_boy\"])\n",
    "raw_data.head(3)"
   ]
  },
  {
   "cell_type": "code",
   "execution_count": 481,
   "metadata": {},
   "outputs": [
    {
     "data": {
      "text/plain": [
       "18451"
      ]
     },
     "execution_count": 481,
     "metadata": {},
     "output_type": "execute_result"
    }
   ],
   "source": [
    "raw_data[\"user_id\"].count()"
   ]
  },
  {
   "cell_type": "markdown",
   "metadata": {},
   "source": [
    "#### 总共爬取18451条数据"
   ]
  },
  {
   "cell_type": "code",
   "execution_count": null,
   "metadata": {
    "collapsed": true
   },
   "outputs": [],
   "source": []
  },
  {
   "cell_type": "markdown",
   "metadata": {},
   "source": [
    "### 去重"
   ]
  },
  {
   "cell_type": "code",
   "execution_count": 459,
   "metadata": {},
   "outputs": [
    {
     "data": {
      "text/html": [
       "<div>\n",
       "<style>\n",
       "    .dataframe thead tr:only-child th {\n",
       "        text-align: right;\n",
       "    }\n",
       "\n",
       "    .dataframe thead th {\n",
       "        text-align: left;\n",
       "    }\n",
       "\n",
       "    .dataframe tbody tr th {\n",
       "        vertical-align: top;\n",
       "    }\n",
       "</style>\n",
       "<table border=\"1\" class=\"dataframe\">\n",
       "  <thead>\n",
       "    <tr style=\"text-align: right;\">\n",
       "      <th></th>\n",
       "      <th>user_id</th>\n",
       "      <th>nickname</th>\n",
       "      <th>age</th>\n",
       "      <th>degree</th>\n",
       "      <th>height</th>\n",
       "      <th>marriage</th>\n",
       "      <th>salary</th>\n",
       "      <th>age_boy</th>\n",
       "      <th>height_boy</th>\n",
       "      <th>degree_boy</th>\n",
       "      <th>marriage_boy</th>\n",
       "    </tr>\n",
       "  </thead>\n",
       "  <tbody>\n",
       "    <tr>\n",
       "      <th>0</th>\n",
       "      <td>217276561</td>\n",
       "      <td>注定</td>\n",
       "      <td>27</td>\n",
       "      <td>大专</td>\n",
       "      <td>162cm</td>\n",
       "      <td>离异</td>\n",
       "      <td>2000～5000元</td>\n",
       "      <td>26-34岁之间</td>\n",
       "      <td>162-187厘米</td>\n",
       "      <td>不限</td>\n",
       "      <td>不限</td>\n",
       "    </tr>\n",
       "    <tr>\n",
       "      <th>1</th>\n",
       "      <td>35161894</td>\n",
       "      <td>菲菲</td>\n",
       "      <td>33</td>\n",
       "      <td>本科</td>\n",
       "      <td>163cm</td>\n",
       "      <td>离异</td>\n",
       "      <td>2000～5000元</td>\n",
       "      <td>26-45岁之间</td>\n",
       "      <td>173-190厘米</td>\n",
       "      <td>不限</td>\n",
       "      <td>不限</td>\n",
       "    </tr>\n",
       "    <tr>\n",
       "      <th>2</th>\n",
       "      <td>218231396</td>\n",
       "      <td>清风</td>\n",
       "      <td>29</td>\n",
       "      <td>高中中专及以下</td>\n",
       "      <td>160cm</td>\n",
       "      <td>未婚</td>\n",
       "      <td>5000～10000元</td>\n",
       "      <td>28-36岁之间</td>\n",
       "      <td>160-185厘米</td>\n",
       "      <td>不限</td>\n",
       "      <td>不限</td>\n",
       "    </tr>\n",
       "    <tr>\n",
       "      <th>3</th>\n",
       "      <td>217009646</td>\n",
       "      <td>燕子</td>\n",
       "      <td>32</td>\n",
       "      <td>大专</td>\n",
       "      <td>156cm</td>\n",
       "      <td>丧偶</td>\n",
       "      <td>5000～10000元</td>\n",
       "      <td>31-39岁之间</td>\n",
       "      <td>170-181厘米</td>\n",
       "      <td>不限</td>\n",
       "      <td>不限</td>\n",
       "    </tr>\n",
       "    <tr>\n",
       "      <th>4</th>\n",
       "      <td>217023683</td>\n",
       "      <td>波波</td>\n",
       "      <td>26</td>\n",
       "      <td>本科</td>\n",
       "      <td>163cm</td>\n",
       "      <td>未婚</td>\n",
       "      <td>10000～20000元</td>\n",
       "      <td>30-50岁之间</td>\n",
       "      <td>不限</td>\n",
       "      <td>不限</td>\n",
       "      <td>不限</td>\n",
       "    </tr>\n",
       "  </tbody>\n",
       "</table>\n",
       "</div>"
      ],
      "text/plain": [
       "     user_id nickname age   degree height marriage        salary    age_boy  \\\n",
       "0  217276561       注定  27       大专  162cm       离异    2000～5000元   26-34岁之间   \n",
       "1   35161894       菲菲  33       本科  163cm       离异    2000～5000元  26-45岁之间    \n",
       "2  218231396       清风  29  高中中专及以下  160cm       未婚   5000～10000元   28-36岁之间   \n",
       "3  217009646       燕子  32       大专  156cm       丧偶   5000～10000元   31-39岁之间   \n",
       "4  217023683       波波  26       本科  163cm       未婚  10000～20000元   30-50岁之间   \n",
       "\n",
       "   height_boy degree_boy marriage_boy  \n",
       "0   162-187厘米         不限           不限  \n",
       "1  173-190厘米          不限           不限  \n",
       "2   160-185厘米         不限           不限  \n",
       "3   170-181厘米         不限           不限  \n",
       "4          不限         不限           不限  "
      ]
     },
     "execution_count": 459,
     "metadata": {},
     "output_type": "execute_result"
    }
   ],
   "source": [
    "data_unique = raw_data.drop_duplicates().reset_index(drop=True)  # 舍弃掉重复项，重新建立索引（drop=true表示把原来的索引舍弃，否则原来的也会保留）\n",
    "data_unique.head(5)"
   ]
  },
  {
   "cell_type": "code",
   "execution_count": 469,
   "metadata": {},
   "outputs": [
    {
     "data": {
      "text/plain": [
       "2290"
      ]
     },
     "execution_count": 469,
     "metadata": {},
     "output_type": "execute_result"
    }
   ],
   "source": [
    "data_unique[\"user_id\"].count()"
   ]
  },
  {
   "cell_type": "markdown",
   "metadata": {},
   "source": [
    "#### 去重后剩余2290条数据，造假近10倍"
   ]
  },
  {
   "cell_type": "code",
   "execution_count": null,
   "metadata": {
    "collapsed": true
   },
   "outputs": [],
   "source": []
  },
  {
   "cell_type": "markdown",
   "metadata": {},
   "source": [
    "### 去重后的操作"
   ]
  },
  {
   "cell_type": "code",
   "execution_count": 461,
   "metadata": {},
   "outputs": [
    {
     "data": {
      "text/plain": [
       "1098"
      ]
     },
     "execution_count": 461,
     "metadata": {},
     "output_type": "execute_result"
    }
   ],
   "source": [
    "data_unique[data_unique[\"degree\"]== \"本科\"][\"user_id\"].count()"
   ]
  },
  {
   "cell_type": "code",
   "execution_count": 462,
   "metadata": {},
   "outputs": [
    {
     "data": {
      "text/html": [
       "<div>\n",
       "<style>\n",
       "    .dataframe thead tr:only-child th {\n",
       "        text-align: right;\n",
       "    }\n",
       "\n",
       "    .dataframe thead th {\n",
       "        text-align: left;\n",
       "    }\n",
       "\n",
       "    .dataframe tbody tr th {\n",
       "        vertical-align: top;\n",
       "    }\n",
       "</style>\n",
       "<table border=\"1\" class=\"dataframe\">\n",
       "  <thead>\n",
       "    <tr style=\"text-align: right;\">\n",
       "      <th></th>\n",
       "      <th>user_id</th>\n",
       "      <th>nickname</th>\n",
       "      <th>age</th>\n",
       "      <th>degree</th>\n",
       "      <th>height</th>\n",
       "      <th>marriage</th>\n",
       "      <th>salary</th>\n",
       "      <th>age_boy</th>\n",
       "      <th>height_boy</th>\n",
       "      <th>degree_boy</th>\n",
       "      <th>marriage_boy</th>\n",
       "    </tr>\n",
       "  </thead>\n",
       "  <tbody>\n",
       "    <tr>\n",
       "      <th>0</th>\n",
       "      <td>217276561</td>\n",
       "      <td>注定</td>\n",
       "      <td>27</td>\n",
       "      <td>大专</td>\n",
       "      <td>162.00</td>\n",
       "      <td>离异</td>\n",
       "      <td>2000～5000元</td>\n",
       "      <td>26-34岁之间</td>\n",
       "      <td>162-187厘米</td>\n",
       "      <td>不限</td>\n",
       "      <td>不限</td>\n",
       "    </tr>\n",
       "    <tr>\n",
       "      <th>1</th>\n",
       "      <td>35161894</td>\n",
       "      <td>菲菲</td>\n",
       "      <td>33</td>\n",
       "      <td>本科</td>\n",
       "      <td>163.00</td>\n",
       "      <td>离异</td>\n",
       "      <td>2000～5000元</td>\n",
       "      <td>26-45岁之间</td>\n",
       "      <td>173-190厘米</td>\n",
       "      <td>不限</td>\n",
       "      <td>不限</td>\n",
       "    </tr>\n",
       "    <tr>\n",
       "      <th>2</th>\n",
       "      <td>218231396</td>\n",
       "      <td>清风</td>\n",
       "      <td>29</td>\n",
       "      <td>高中中专及以下</td>\n",
       "      <td>160.00</td>\n",
       "      <td>未婚</td>\n",
       "      <td>5000～10000元</td>\n",
       "      <td>28-36岁之间</td>\n",
       "      <td>160-185厘米</td>\n",
       "      <td>不限</td>\n",
       "      <td>不限</td>\n",
       "    </tr>\n",
       "    <tr>\n",
       "      <th>3</th>\n",
       "      <td>217009646</td>\n",
       "      <td>燕子</td>\n",
       "      <td>32</td>\n",
       "      <td>大专</td>\n",
       "      <td>156.00</td>\n",
       "      <td>丧偶</td>\n",
       "      <td>5000～10000元</td>\n",
       "      <td>31-39岁之间</td>\n",
       "      <td>170-181厘米</td>\n",
       "      <td>不限</td>\n",
       "      <td>不限</td>\n",
       "    </tr>\n",
       "    <tr>\n",
       "      <th>4</th>\n",
       "      <td>217023683</td>\n",
       "      <td>波波</td>\n",
       "      <td>26</td>\n",
       "      <td>本科</td>\n",
       "      <td>163.00</td>\n",
       "      <td>未婚</td>\n",
       "      <td>10000～20000元</td>\n",
       "      <td>30-50岁之间</td>\n",
       "      <td>不限</td>\n",
       "      <td>不限</td>\n",
       "      <td>不限</td>\n",
       "    </tr>\n",
       "  </tbody>\n",
       "</table>\n",
       "</div>"
      ],
      "text/plain": [
       "     user_id nickname age   degree  height marriage        salary    age_boy  \\\n",
       "0  217276561       注定  27       大专  162.00       离异    2000～5000元   26-34岁之间   \n",
       "1   35161894       菲菲  33       本科  163.00       离异    2000～5000元  26-45岁之间    \n",
       "2  218231396       清风  29  高中中专及以下  160.00       未婚   5000～10000元   28-36岁之间   \n",
       "3  217009646       燕子  32       大专  156.00       丧偶   5000～10000元   31-39岁之间   \n",
       "4  217023683       波波  26       本科  163.00       未婚  10000～20000元   30-50岁之间   \n",
       "\n",
       "   height_boy degree_boy marriage_boy  \n",
       "0   162-187厘米         不限           不限  \n",
       "1  173-190厘米          不限           不限  \n",
       "2   160-185厘米         不限           不限  \n",
       "3   170-181厘米         不限           不限  \n",
       "4          不限         不限           不限  "
      ]
     },
     "execution_count": 462,
     "metadata": {},
     "output_type": "execute_result"
    }
   ],
   "source": [
    "data_unique[\"height\"] = data_unique[\"height\"].str.replace(\"cm\", \"\").astype(\"float\")\n",
    "data_unique.head(5)"
   ]
  },
  {
   "cell_type": "code",
   "execution_count": null,
   "metadata": {
    "collapsed": true
   },
   "outputs": [],
   "source": []
  },
  {
   "cell_type": "code",
   "execution_count": 463,
   "metadata": {},
   "outputs": [
    {
     "data": {
      "text/plain": [
       "count   2290.00\n",
       "mean     169.77\n",
       "std        4.66\n",
       "min      130.00\n",
       "25%      168.00\n",
       "50%      170.00\n",
       "75%      172.00\n",
       "max      181.00\n",
       "Name: height_boy, dtype: float64"
      ]
     },
     "execution_count": 463,
     "metadata": {},
     "output_type": "execute_result"
    }
   ],
   "source": [
    "temp_height = data_unique[\"height_boy\"].str.split(\"-\", n=1, expand=True)[0]  # expand=True按分割结果返回一个dataframe，所以取[0]就是取第一列\n",
    "\n",
    "temp_height = temp_height.str.replace(\"厘米或以上\", \"\")\n",
    "\n",
    "temp_height.replace(\"不限\", \"0\", inplace=True) # inplace表示原地修改\n",
    "\n",
    "temp_height[temp_height.str.contains(\"厘米或以下\", regex=False)] = \"0\"  # 把诸如\"195cm以下这种替换为0\"\n",
    "\n",
    "temp_height[temp_height==\"0\"] = np.nan\n",
    "\n",
    "temp_height = temp_height.astype(\"float\")\n",
    "\n",
    "temp_height.fillna(temp_height.mean(), inplace=True)\n",
    "\n",
    "# temp_height.isnull()  # 高版本增加isna()函数，功能和isnull()一样\n",
    "# temp_height[temp_height.isnull()]\n",
    "\n",
    "data_unique[\"height_boy\"] = temp_height\n",
    "\n",
    "data_unique[\"height_boy\"].describe()"
   ]
  },
  {
   "cell_type": "code",
   "execution_count": 464,
   "metadata": {
    "collapsed": true
   },
   "outputs": [],
   "source": [
    "data_unique = data_unique.sort_values(by=[\"height\", \"height_boy\"]).reset_index(drop=True)"
   ]
  },
  {
   "cell_type": "code",
   "execution_count": 479,
   "metadata": {},
   "outputs": [
    {
     "data": {
      "text/html": [
       "<div>\n",
       "<style>\n",
       "    .dataframe thead tr:only-child th {\n",
       "        text-align: right;\n",
       "    }\n",
       "\n",
       "    .dataframe thead th {\n",
       "        text-align: left;\n",
       "    }\n",
       "\n",
       "    .dataframe tbody tr th {\n",
       "        vertical-align: top;\n",
       "    }\n",
       "</style>\n",
       "<table border=\"1\" class=\"dataframe\">\n",
       "  <thead>\n",
       "    <tr style=\"text-align: right;\">\n",
       "      <th></th>\n",
       "      <th>user_id</th>\n",
       "      <th>nickname</th>\n",
       "      <th>age</th>\n",
       "      <th>degree</th>\n",
       "      <th>height</th>\n",
       "      <th>marriage</th>\n",
       "      <th>salary</th>\n",
       "      <th>age_boy</th>\n",
       "      <th>height_boy</th>\n",
       "      <th>degree_boy</th>\n",
       "      <th>marriage_boy</th>\n",
       "    </tr>\n",
       "  </thead>\n",
       "  <tbody>\n",
       "    <tr>\n",
       "      <th>0</th>\n",
       "      <td>175492367</td>\n",
       "      <td>梦儿</td>\n",
       "      <td>30</td>\n",
       "      <td>大专</td>\n",
       "      <td>153.00</td>\n",
       "      <td>离异,有孩子跟着对方</td>\n",
       "      <td>2000元以下</td>\n",
       "      <td>29-40岁之间</td>\n",
       "      <td>163.00</td>\n",
       "      <td>不限</td>\n",
       "      <td>未婚</td>\n",
       "    </tr>\n",
       "    <tr>\n",
       "      <th>1</th>\n",
       "      <td>142015297</td>\n",
       "      <td>嗨,我就是我</td>\n",
       "      <td>29</td>\n",
       "      <td>本科</td>\n",
       "      <td>153.00</td>\n",
       "      <td>未婚</td>\n",
       "      <td>2000～5000元</td>\n",
       "      <td>26-35岁之间</td>\n",
       "      <td>165.00</td>\n",
       "      <td>本科</td>\n",
       "      <td>不限</td>\n",
       "    </tr>\n",
       "    <tr>\n",
       "      <th>2</th>\n",
       "      <td>100643150</td>\n",
       "      <td>vila</td>\n",
       "      <td>31</td>\n",
       "      <td>硕士</td>\n",
       "      <td>153.00</td>\n",
       "      <td>未婚</td>\n",
       "      <td>5000～10000元</td>\n",
       "      <td>29-38岁之间</td>\n",
       "      <td>165.00</td>\n",
       "      <td>本科或以上</td>\n",
       "      <td>不限</td>\n",
       "    </tr>\n",
       "    <tr>\n",
       "      <th>3</th>\n",
       "      <td>185585039</td>\n",
       "      <td>五月</td>\n",
       "      <td>27</td>\n",
       "      <td>硕士</td>\n",
       "      <td>153.00</td>\n",
       "      <td>未婚</td>\n",
       "      <td>5000～10000元</td>\n",
       "      <td>25-35岁之间</td>\n",
       "      <td>167.00</td>\n",
       "      <td>本科</td>\n",
       "      <td>未婚</td>\n",
       "    </tr>\n",
       "    <tr>\n",
       "      <th>4</th>\n",
       "      <td>118103924</td>\n",
       "      <td>我</td>\n",
       "      <td>33</td>\n",
       "      <td>大专</td>\n",
       "      <td>153.00</td>\n",
       "      <td>离异</td>\n",
       "      <td>2000～5000元</td>\n",
       "      <td>30-40岁之间</td>\n",
       "      <td>168.00</td>\n",
       "      <td>不限</td>\n",
       "      <td>不限</td>\n",
       "    </tr>\n",
       "  </tbody>\n",
       "</table>\n",
       "</div>"
      ],
      "text/plain": [
       "     user_id nickname age degree  height    marriage       salary    age_boy  \\\n",
       "0  175492367       梦儿  30     大专  153.00  离异,有孩子跟着对方      2000元以下   29-40岁之间   \n",
       "1  142015297   嗨,我就是我  29     本科  153.00          未婚   2000～5000元   26-35岁之间   \n",
       "2  100643150     vila  31     硕士  153.00          未婚  5000～10000元  29-38岁之间    \n",
       "3  185585039       五月  27     硕士  153.00          未婚  5000～10000元   25-35岁之间   \n",
       "4  118103924        我  33     大专  153.00          离异   2000～5000元   30-40岁之间   \n",
       "\n",
       "   height_boy degree_boy marriage_boy  \n",
       "0      163.00         不限           未婚  \n",
       "1      165.00         本科           不限  \n",
       "2      165.00     本科或以上            不限  \n",
       "3      167.00         本科           未婚  \n",
       "4      168.00         不限           不限  "
      ]
     },
     "execution_count": 479,
     "metadata": {},
     "output_type": "execute_result"
    }
   ],
   "source": [
    "data_unique.head(5)"
   ]
  },
  {
   "cell_type": "code",
   "execution_count": 466,
   "metadata": {
    "collapsed": true
   },
   "outputs": [],
   "source": [
    "group = data_unique[\"height_boy\"].groupby(data_unique[\"height\"])\n",
    "max_value = group.max().tolist()\n",
    "avg_value = group.mean().tolist()\n",
    "mid_value = group.median().tolist()\n",
    "max_value = group.max().tolist()"
   ]
  },
  {
   "cell_type": "code",
   "execution_count": 467,
   "metadata": {
    "collapsed": true
   },
   "outputs": [],
   "source": [
    "plt.rcParams['font.sans-serif'] = ['SimHei']  # 用来正常显示中文标签\n",
    "plt.rcParams['axes.unicode_minus'] = False  # 用来正常显示负号\n",
    "\n",
    "x = list(range(153, 171))\n",
    "y = list(range(160, 190))\n",
    "\n",
    "y1 = mid_value\n",
    "y2 = avg_value\n",
    "y3 = list(range(153, 171))\n",
    "y4 = max_value"
   ]
  },
  {
   "cell_type": "code",
   "execution_count": 480,
   "metadata": {},
   "outputs": [
    {
     "data": {
      "image/png": "[encoded data removed]",
      "text/plain": [
       "<matplotlib.figure.Figure at 0x208cfdd8>"
      ]
     },
     "metadata": {},
     "output_type": "display_data"
    }
   ],
   "source": [
    "plt.figure(figsize=(10, 5), dpi=80)\n",
    "\n",
    "x_label = [str(item) + \"cm\" for item in x]\n",
    "y_label = [str(item) + \"cm\" for item in y]\n",
    "    \n",
    "plt.xticks(x, x_label, rotation=90)\n",
    "plt.yticks(y[::2], y_label[::2])\n",
    "\n",
    "plt.xlabel(\"女性身高\")\n",
    "plt.ylabel(\"女性预期男性最低身高\")\n",
    "\n",
    "plt.plot(x, y1, label=\"女性预期男性最低身高中位数\", color=\"blue\")\n",
    "plt.plot(x, y2, label=\"女性预期男性最低身高平均数\", color=\"red\")\n",
    "plt.plot(x, y3, label=\"女性身高\", color=\"green\")\n",
    "# plt.plot(x, y4)\n",
    "\n",
    "plt.legend(loc=\"upper left\")\n",
    "plt.grid(alpha=0.5, linestyle=\"-\")\n",
    "\n",
    "plt.show()"
   ]
  },
  {
   "cell_type": "code",
   "execution_count": null,
   "metadata": {
    "collapsed": true
   },
   "outputs": [],
   "source": []
  },
  {
   "cell_type": "code",
   "execution_count": null,
   "metadata": {
    "collapsed": true
   },
   "outputs": [],
   "source": []
  },
  {
   "cell_type": "code",
   "execution_count": null,
   "metadata": {
    "collapsed": true
   },
   "outputs": [],
   "source": []
  },
  {
   "cell_type": "code",
   "execution_count": null,
   "metadata": {
    "collapsed": true
   },
   "outputs": [],
   "source": []
  },
  {
   "cell_type": "code",
   "execution_count": null,
   "metadata": {
    "collapsed": true
   },
   "outputs": [],
   "source": []
  },
  {
   "cell_type": "code",
   "execution_count": null,
   "metadata": {
    "collapsed": true
   },
   "outputs": [],
   "source": []
  },
  {
   "cell_type": "code",
   "execution_count": null,
   "metadata": {
    "collapsed": true
   },
   "outputs": [],
   "source": []
  },
  {
   "cell_type": "code",
   "execution_count": null,
   "metadata": {
    "collapsed": true
   },
   "outputs": [],
   "source": []
  },
  {
   "cell_type": "code",
   "execution_count": null,
   "metadata": {
    "collapsed": true
   },
   "outputs": [],
   "source": []
  },
  {
   "cell_type": "code",
   "execution_count": null,
   "metadata": {
    "collapsed": true
   },
   "outputs": [],
   "source": []
  },
  {
   "cell_type": "code",
   "execution_count": null,
   "metadata": {
    "collapsed": true
   },
   "outputs": [],
   "source": []
  }
 ],
 "metadata": {
  "kernelspec": {
   "display_name": "Python 3",
   "language": "python",
   "name": "python3"
  },
  "language_info": {
   "codemirror_mode": {
    "name": "ipython",
    "version": 3
   },
   "file_extension": ".py",
   "mimetype": "text/x-python",
   "name": "python",
   "nbconvert_exporter": "python",
   "pygments_lexer": "ipython3",
   "version": "3.6.8"
  }
 },
 "nbformat": 4,
 "nbformat_minor": 2
}
